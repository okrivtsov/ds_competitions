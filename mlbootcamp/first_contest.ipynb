{
 "cells": [
  {
   "cell_type": "code",
   "execution_count": 1,
   "metadata": {
    "collapsed": false
   },
   "outputs": [],
   "source": [
    "import numpy as np\n",
    "import pandas as pd\n",
    "from __future__ import division\n",
    "from sklearn.linear_model import LinearRegression\n",
    "from sklearn.metrics import r2_score"
   ]
  },
  {
   "cell_type": "markdown",
   "metadata": {},
   "source": [
    "### Functions"
   ]
  },
  {
   "cell_type": "code",
   "execution_count": 2,
   "metadata": {
    "collapsed": true
   },
   "outputs": [],
   "source": [
    "def mape(y,y_pred):\n",
    "    return np.mean(np.abs((y - y_pred) / y))\n",
    "\n",
    "def max_outlier(y,y_pred):\n",
    "    deviations = np.abs(y - y_pred)\n",
    "    return np.where(deviations == deviations.max())\n",
    "\n",
    "def get_clf(X,y):\n",
    "    nX = np.copy(X)\n",
    "    ny = np.copy(y)\n",
    "    clf = LinearRegression()\n",
    "    clf.fit(nX,ny)\n",
    "    while r2_score(ny,clf.predict(nX)) <= 0.99996:\n",
    "        row_for_delete = max_outlier(ny,clf.predict(nX))\n",
    "        nX = np.delete(nX, row_for_delete, axis=0)\n",
    "        ny = np.delete(ny, row_for_delete, axis=0)\n",
    "        clf.fit(nX,ny)\n",
    "    return clf"
   ]
  },
  {
   "cell_type": "markdown",
   "metadata": {},
   "source": [
    "### Main"
   ]
  },
  {
   "cell_type": "code",
   "execution_count": 3,
   "metadata": {
    "collapsed": false
   },
   "outputs": [],
   "source": [
    "X_train = pd.read_csv('input/x_train.csv')\n",
    "y_train = pd.read_csv('input/y_train.csv')\n",
    "X_test  = pd.read_csv('input/x_test.csv')\n",
    "\n",
    "train_mkn =  np.array(X_train['m'] * X_train['k'] * X_train['n'])\n",
    "test_mkn  =  np.array(X_test['m'] * X_test['k'] * X_test['n'])\n",
    "\n",
    "y_train = y_train['time'].values / train_mkn\n",
    "\n",
    "X_train.drop(list(X_train.iloc[:,250:]), axis=1, inplace=True)\n",
    "X_train.drop(list(X_train.iloc[:,:76]), axis=1, inplace=True)\n",
    "\n",
    "X_test.drop(list(X_test.iloc[:,250:]), axis=1, inplace=True)\n",
    "X_test.drop(list(X_test.iloc[:,:76]), axis=1, inplace=True)\n",
    "\n",
    "X_train = np.array(X_train)\n",
    "X_test  = np.array(X_test)\n",
    "\n",
    "p1 = np.percentile(train_mkn, 25)\n",
    "p2 = np.percentile(train_mkn, 50)\n",
    "p3 = np.percentile(train_mkn, 75)\n",
    "\n",
    "predict = np.empty([X_test.shape[0],])\n",
    "\n",
    "train_a = np.where(train_mkn < p1 )[0]\n",
    "train_b = np.where ( np.logical_and(train_mkn >= p1, train_mkn < p2))[0]\n",
    "train_c = np.where ( np.logical_and(train_mkn >= p2, train_mkn < p3))[0]\n",
    "train_d = np.where(train_mkn >= p3)[0]\n",
    "\n",
    "test_a  = np.where(test_mkn < p1 )[0]\n",
    "test_b  = np.where ( np.logical_and(test_mkn >= p1, test_mkn < p2))[0]\n",
    "test_c  = np.where ( np.logical_and(test_mkn >= p2, test_mkn < p3))[0]\n",
    "test_d  = np.where(test_mkn >= p3)[0]\n",
    "\n",
    "train_list = [\"train_a\",\"train_b\",\"train_c\",\"train_d\"]\n",
    "test_list  = [\"test_a\",\"test_b\",\"test_c\",\"test_d\"]\n",
    "\n",
    "for (train_i,test_i) in zip(train_list,test_list):\n",
    "    train_i = eval(train_i)\n",
    "    test_i  = eval(test_i)\n",
    "    clf     = get_clf(X_train[train_i],y_train[train_i])\n",
    "    predict[test_i,] = clf.predict(X_test)[test_i] * test_mkn[test_i]\n",
    "    \n",
    "predict[(np.where (np.abs(predict) > 1000)),] = 1\n",
    "\n",
    "np.savetxt('submission.csv', predict, fmt=\"%f\")"
   ]
  }
 ],
 "metadata": {
  "kernelspec": {
   "display_name": "Python 2",
   "language": "python",
   "name": "python2"
  },
  "language_info": {
   "codemirror_mode": {
    "name": "ipython",
    "version": 2
   },
   "file_extension": ".py",
   "mimetype": "text/x-python",
   "name": "python",
   "nbconvert_exporter": "python",
   "pygments_lexer": "ipython2",
   "version": "2.7.12"
  }
 },
 "nbformat": 4,
 "nbformat_minor": 0
}
