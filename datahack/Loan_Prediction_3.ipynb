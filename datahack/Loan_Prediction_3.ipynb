{
 "cells": [
  {
   "cell_type": "markdown",
   "metadata": {},
   "source": [
    "## Loan Prediction III"
   ]
  },
  {
   "cell_type": "markdown",
   "metadata": {},
   "source": [
    "http://datahack.analyticsvidhya.com/contest/practice-problem-loan-prediction-iii"
   ]
  },
  {
   "cell_type": "code",
   "execution_count": 1,
   "metadata": {
    "collapsed": false
   },
   "outputs": [],
   "source": [
    "import numpy as np\n",
    "import pandas as pd\n",
    "import xgboost as xgb\n",
    "\n",
    "from __future__ import division\n",
    "\n",
    "from sklearn.cross_validation import train_test_split\n",
    "\n",
    "from sklearn.preprocessing import LabelEncoder\n",
    "from sklearn.metrics import accuracy_score\n",
    "from collections import Counter\n",
    "\n",
    "import matplotlib.pyplot as plt\n",
    "plt.style.use('ggplot')\n",
    "plt.matplotlib.rc('axes',edgecolor='#c0c0c0')\n",
    "plt.matplotlib.rc('axes',facecolor ='white')\n",
    "plt.matplotlib.rc('axes',grid ='true')\n",
    "plt.matplotlib.rc('grid',color ='f1f1f1')\n",
    "plt.matplotlib.rc('figure',dpi = 600)\n",
    "\n",
    "%matplotlib inline"
   ]
  },
  {
   "cell_type": "markdown",
   "metadata": {},
   "source": [
    "### Functions"
   ]
  },
  {
   "cell_type": "code",
   "execution_count": 2,
   "metadata": {
    "collapsed": false
   },
   "outputs": [],
   "source": [
    "def prepare(X):\n",
    "    \n",
    "    for i in X.columns:\n",
    "        top_v = Counter(X[i].values).most_common(1)[0][0]\n",
    "        X[i].fillna(top_v, inplace=True)\n",
    "     \n",
    "    X = X.join((X.ApplicantIncome / X.LoanAmount).to_frame(name=\"k\"))\n",
    "\n",
    "    encoder = LabelEncoder()\n",
    "    cat_columns = [c for c in X.columns if X[c].dtype.name == 'object']\n",
    "    for ix, item in enumerate(cat_columns):\n",
    "        X[item] = encoder.fit_transform(X[item])\n",
    "    \n",
    "    return X"
   ]
  },
  {
   "cell_type": "markdown",
   "metadata": {},
   "source": [
    "### Main"
   ]
  },
  {
   "cell_type": "code",
   "execution_count": 3,
   "metadata": {
    "collapsed": false
   },
   "outputs": [
    {
     "name": "stdout",
     "output_type": "stream",
     "text": [
      "Accuracy: 0.827\n"
     ]
    }
   ],
   "source": [
    "train = pd.read_csv('input/train.csv')\n",
    "test = pd.read_csv('input/test.csv')\n",
    "\n",
    "X = train.drop([\"Loan_ID\",\"Loan_Status\"],1)\n",
    "y = train['Loan_Status']\n",
    "\n",
    "Loan_ID = test[\"Loan_ID\"].copy()\n",
    "Z = test.drop([\"Loan_ID\"],1)\n",
    "\n",
    "y.replace(\"Y\",1,inplace=True)\n",
    "y.replace(\"N\",0,inplace=True)\n",
    "\n",
    "X = prepare(X)\n",
    "Z = prepare(Z)\n",
    "\n",
    "X_train, X_test, y_train, y_test = train_test_split(X, y, test_size = 0.3, random_state = 5)\n",
    "clf = xgb.XGBClassifier(n_estimators=90, max_depth=4)\n",
    "clf.fit(X_train,y_train)\n",
    "predictions = clf.predict(X_test)\n",
    "\n",
    "print \"Accuracy: %0.3f\" % accuracy_score(y_test, predictions)"
   ]
  },
  {
   "cell_type": "markdown",
   "metadata": {},
   "source": [
    "### Submission"
   ]
  },
  {
   "cell_type": "markdown",
   "metadata": {},
   "source": [
    "#### Predict"
   ]
  },
  {
   "cell_type": "code",
   "execution_count": 4,
   "metadata": {
    "collapsed": false
   },
   "outputs": [],
   "source": [
    "predicts = clf.predict(Z).astype(str)\n",
    "predicts [predicts == \"1\"] = \"Y\"\n",
    "predicts [predicts == \"0\"] = \"N\""
   ]
  },
  {
   "cell_type": "markdown",
   "metadata": {},
   "source": [
    "#### Hack"
   ]
  },
  {
   "cell_type": "code",
   "execution_count": 5,
   "metadata": {
    "collapsed": false
   },
   "outputs": [
    {
     "data": {
      "image/png": "[encoded data removed]",
      "text/plain": [
       "<matplotlib.figure.Figure at 0x11673ead0>"
      ]
     },
     "metadata": {},
     "output_type": "display_data"
    }
   ],
   "source": [
    "plt.figure(figsize=(14,8))\n",
    "plt.scatter(y, X.k, color = \"#0668b1\", alpha = 0.5, s = 50)\n",
    "plt.ylabel('k = ApplicantIncome / LoanAmount ')\n",
    "plt.xlabel('Loan Status')\n",
    "plt.show()"
   ]
  },
  {
   "cell_type": "code",
   "execution_count": 6,
   "metadata": {
    "collapsed": true
   },
   "outputs": [],
   "source": [
    "predicts[np.where(Z.k > 90),] = \"Y\""
   ]
  },
  {
   "cell_type": "markdown",
   "metadata": {},
   "source": [
    "#### submission.csv"
   ]
  },
  {
   "cell_type": "code",
   "execution_count": 7,
   "metadata": {
    "collapsed": false
   },
   "outputs": [],
   "source": [
    "submission = pd.DataFrame({\"Loan_ID\":Loan_ID, \"Loan_Status\": predicts})\n",
    "submission.to_csv(\"submission.csv\", index=False)"
   ]
  }
 ],
 "metadata": {
  "kernelspec": {
   "display_name": "Python 2",
   "language": "python",
   "name": "python2"
  },
  "language_info": {
   "codemirror_mode": {
    "name": "ipython",
    "version": 2
   },
   "file_extension": ".py",
   "mimetype": "text/x-python",
   "name": "python",
   "nbconvert_exporter": "python",
   "pygments_lexer": "ipython2",
   "version": "2.7.12"
  }
 },
 "nbformat": 4,
 "nbformat_minor": 0
}
